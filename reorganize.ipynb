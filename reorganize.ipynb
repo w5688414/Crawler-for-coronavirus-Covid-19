{
 "cells": [
  {
   "cell_type": "code",
   "execution_count": 1,
   "metadata": {},
   "outputs": [],
   "source": [
    "import pandas as pd"
   ]
  },
  {
   "cell_type": "code",
   "execution_count": 2,
   "metadata": {},
   "outputs": [
    {
     "data": {
      "text/html": [
       "<div>\n",
       "<style scoped>\n",
       "    .dataframe tbody tr th:only-of-type {\n",
       "        vertical-align: middle;\n",
       "    }\n",
       "\n",
       "    .dataframe tbody tr th {\n",
       "        vertical-align: top;\n",
       "    }\n",
       "\n",
       "    .dataframe thead th {\n",
       "        text-align: right;\n",
       "    }\n",
       "</style>\n",
       "<table border=\"1\" class=\"dataframe\">\n",
       "  <thead>\n",
       "    <tr style=\"text-align: right;\">\n",
       "      <th></th>\n",
       "      <th>Unnamed: 0</th>\n",
       "      <th>报道时间</th>\n",
       "      <th>报道人</th>\n",
       "      <th>报道形式（文字／图片／专访等）</th>\n",
       "      <th>报道标题</th>\n",
       "      <th>链接</th>\n",
       "    </tr>\n",
       "  </thead>\n",
       "  <tbody>\n",
       "    <tr>\n",
       "      <th>0</th>\n",
       "      <td>0</td>\n",
       "      <td>2020--04--23 18:00:00</td>\n",
       "      <td>Jessica Chen Weiss</td>\n",
       "      <td>文字</td>\n",
       "      <td>冠状病毒如何改变中美两国的政治前景。</td>\n",
       "      <td>https://www.washingtonpost.com/politics/2020/0...</td>\n",
       "    </tr>\n",
       "    <tr>\n",
       "      <th>1</th>\n",
       "      <td>1</td>\n",
       "      <td>2020--03--20 04:17:45</td>\n",
       "      <td>Eugene Scott</td>\n",
       "      <td>文字</td>\n",
       "      <td>白宫官方辩护称其为“中国”冠状病毒</td>\n",
       "      <td>https://www.washingtonpost.com/politics/2020/0...</td>\n",
       "    </tr>\n",
       "    <tr>\n",
       "      <th>2</th>\n",
       "      <td>2</td>\n",
       "      <td>2020--04--28 04:15:34</td>\n",
       "      <td>Vanessa Molter, Renee DiResta and Alex Stamos</td>\n",
       "      <td>文字</td>\n",
       "      <td>随着中国对covid-19的宣传越来越多，美国社交媒体必须采取行动</td>\n",
       "      <td>https://www.washingtonpost.com/opinions/2020/0...</td>\n",
       "    </tr>\n",
       "    <tr>\n",
       "      <th>3</th>\n",
       "      <td>3</td>\n",
       "      <td>2020--03--20 19:22:14</td>\n",
       "      <td>Allyson Chiu</td>\n",
       "      <td>文字</td>\n",
       "      <td>特朗普毫不犹豫地称冠状病毒为“中国病毒”。专家说，这是一种危险的态度。</td>\n",
       "      <td>https://www.washingtonpost.com/nation/2020/03/...</td>\n",
       "    </tr>\n",
       "    <tr>\n",
       "      <th>4</th>\n",
       "      <td>4</td>\n",
       "      <td>2020--03--19 09:58:07</td>\n",
       "      <td>Des Bieler</td>\n",
       "      <td>文字</td>\n",
       "      <td>林书豪以“中国病毒”的言论抨击特朗普“赋予”种族主义权力</td>\n",
       "      <td>https://www.washingtonpost.com/sports/2020/03/...</td>\n",
       "    </tr>\n",
       "  </tbody>\n",
       "</table>\n",
       "</div>"
      ],
      "text/plain": [
       "   Unnamed: 0                   报道时间  \\\n",
       "0           0  2020--04--23 18:00:00   \n",
       "1           1  2020--03--20 04:17:45   \n",
       "2           2  2020--04--28 04:15:34   \n",
       "3           3  2020--03--20 19:22:14   \n",
       "4           4  2020--03--19 09:58:07   \n",
       "\n",
       "                                             报道人 报道形式（文字／图片／专访等）  \\\n",
       "0                             Jessica Chen Weiss              文字   \n",
       "1                                   Eugene Scott              文字   \n",
       "2  Vanessa Molter, Renee DiResta and Alex Stamos              文字   \n",
       "3                                   Allyson Chiu              文字   \n",
       "4                                     Des Bieler              文字   \n",
       "\n",
       "                                  报道标题  \\\n",
       "0                   冠状病毒如何改变中美两国的政治前景。   \n",
       "1                    白宫官方辩护称其为“中国”冠状病毒   \n",
       "2    随着中国对covid-19的宣传越来越多，美国社交媒体必须采取行动   \n",
       "3  特朗普毫不犹豫地称冠状病毒为“中国病毒”。专家说，这是一种危险的态度。   \n",
       "4         林书豪以“中国病毒”的言论抨击特朗普“赋予”种族主义权力   \n",
       "\n",
       "                                                  链接  \n",
       "0  https://www.washingtonpost.com/politics/2020/0...  \n",
       "1  https://www.washingtonpost.com/politics/2020/0...  \n",
       "2  https://www.washingtonpost.com/opinions/2020/0...  \n",
       "3  https://www.washingtonpost.com/nation/2020/03/...  \n",
       "4  https://www.washingtonpost.com/sports/2020/03/...  "
      ]
     },
     "execution_count": 2,
     "metadata": {},
     "output_type": "execute_result"
    }
   ],
   "source": [
    "df=pd.read_excel('../archive/The_Washington_Post.xls')\n",
    "df.head()"
   ]
  },
  {
   "cell_type": "code",
   "execution_count": 3,
   "metadata": {},
   "outputs": [
    {
     "data": {
      "text/html": [
       "<div>\n",
       "<style scoped>\n",
       "    .dataframe tbody tr th:only-of-type {\n",
       "        vertical-align: middle;\n",
       "    }\n",
       "\n",
       "    .dataframe tbody tr th {\n",
       "        vertical-align: top;\n",
       "    }\n",
       "\n",
       "    .dataframe thead th {\n",
       "        text-align: right;\n",
       "    }\n",
       "</style>\n",
       "<table border=\"1\" class=\"dataframe\">\n",
       "  <thead>\n",
       "    <tr style=\"text-align: right;\">\n",
       "      <th></th>\n",
       "      <th>index</th>\n",
       "      <th>报道时间</th>\n",
       "      <th>报道人</th>\n",
       "      <th>报道形式（文字／图片／专访等）</th>\n",
       "      <th>报道标题</th>\n",
       "      <th>链接</th>\n",
       "    </tr>\n",
       "  </thead>\n",
       "  <tbody>\n",
       "    <tr>\n",
       "      <th>0</th>\n",
       "      <td>0</td>\n",
       "      <td>2020--04--23 18:00:00</td>\n",
       "      <td>Jessica Chen Weiss</td>\n",
       "      <td>文字</td>\n",
       "      <td>冠状病毒如何改变中美两国的政治前景。</td>\n",
       "      <td>https://www.washingtonpost.com/politics/2020/0...</td>\n",
       "    </tr>\n",
       "    <tr>\n",
       "      <th>1</th>\n",
       "      <td>1</td>\n",
       "      <td>2020--03--20 04:17:45</td>\n",
       "      <td>Eugene Scott</td>\n",
       "      <td>文字</td>\n",
       "      <td>白宫官方辩护称其为“中国”冠状病毒</td>\n",
       "      <td>https://www.washingtonpost.com/politics/2020/0...</td>\n",
       "    </tr>\n",
       "    <tr>\n",
       "      <th>2</th>\n",
       "      <td>2</td>\n",
       "      <td>2020--04--28 04:15:34</td>\n",
       "      <td>Vanessa Molter, Renee DiResta and Alex Stamos</td>\n",
       "      <td>文字</td>\n",
       "      <td>随着中国对covid-19的宣传越来越多，美国社交媒体必须采取行动</td>\n",
       "      <td>https://www.washingtonpost.com/opinions/2020/0...</td>\n",
       "    </tr>\n",
       "    <tr>\n",
       "      <th>3</th>\n",
       "      <td>3</td>\n",
       "      <td>2020--03--20 19:22:14</td>\n",
       "      <td>Allyson Chiu</td>\n",
       "      <td>文字</td>\n",
       "      <td>特朗普毫不犹豫地称冠状病毒为“中国病毒”。专家说，这是一种危险的态度。</td>\n",
       "      <td>https://www.washingtonpost.com/nation/2020/03/...</td>\n",
       "    </tr>\n",
       "    <tr>\n",
       "      <th>4</th>\n",
       "      <td>4</td>\n",
       "      <td>2020--03--19 09:58:07</td>\n",
       "      <td>Des Bieler</td>\n",
       "      <td>文字</td>\n",
       "      <td>林书豪以“中国病毒”的言论抨击特朗普“赋予”种族主义权力</td>\n",
       "      <td>https://www.washingtonpost.com/sports/2020/03/...</td>\n",
       "    </tr>\n",
       "  </tbody>\n",
       "</table>\n",
       "</div>"
      ],
      "text/plain": [
       "   index                   报道时间  \\\n",
       "0      0  2020--04--23 18:00:00   \n",
       "1      1  2020--03--20 04:17:45   \n",
       "2      2  2020--04--28 04:15:34   \n",
       "3      3  2020--03--20 19:22:14   \n",
       "4      4  2020--03--19 09:58:07   \n",
       "\n",
       "                                             报道人 报道形式（文字／图片／专访等）  \\\n",
       "0                             Jessica Chen Weiss              文字   \n",
       "1                                   Eugene Scott              文字   \n",
       "2  Vanessa Molter, Renee DiResta and Alex Stamos              文字   \n",
       "3                                   Allyson Chiu              文字   \n",
       "4                                     Des Bieler              文字   \n",
       "\n",
       "                                  报道标题  \\\n",
       "0                   冠状病毒如何改变中美两国的政治前景。   \n",
       "1                    白宫官方辩护称其为“中国”冠状病毒   \n",
       "2    随着中国对covid-19的宣传越来越多，美国社交媒体必须采取行动   \n",
       "3  特朗普毫不犹豫地称冠状病毒为“中国病毒”。专家说，这是一种危险的态度。   \n",
       "4         林书豪以“中国病毒”的言论抨击特朗普“赋予”种族主义权力   \n",
       "\n",
       "                                                  链接  \n",
       "0  https://www.washingtonpost.com/politics/2020/0...  \n",
       "1  https://www.washingtonpost.com/politics/2020/0...  \n",
       "2  https://www.washingtonpost.com/opinions/2020/0...  \n",
       "3  https://www.washingtonpost.com/nation/2020/03/...  \n",
       "4  https://www.washingtonpost.com/sports/2020/03/...  "
      ]
     },
     "execution_count": 3,
     "metadata": {},
     "output_type": "execute_result"
    }
   ],
   "source": [
    "df.rename(columns={'Unnamed: 0':'index'},inplace=True)\n",
    "df.head()"
   ]
  },
  {
   "cell_type": "code",
   "execution_count": 4,
   "metadata": {},
   "outputs": [],
   "source": [
    "data=df[~(df[\"报道形式（文字／图片／专访等）\"]=='视频')]"
   ]
  },
  {
   "cell_type": "code",
   "execution_count": 5,
   "metadata": {},
   "outputs": [
    {
     "name": "stdout",
     "output_type": "stream",
     "text": [
      "(1114, 6)\n",
      "(1095, 6)\n"
     ]
    }
   ],
   "source": [
    "print(df.shape)\n",
    "print(data.shape)"
   ]
  },
  {
   "cell_type": "code",
   "execution_count": 6,
   "metadata": {},
   "outputs": [
    {
     "data": {
      "text/html": [
       "<div>\n",
       "<style scoped>\n",
       "    .dataframe tbody tr th:only-of-type {\n",
       "        vertical-align: middle;\n",
       "    }\n",
       "\n",
       "    .dataframe tbody tr th {\n",
       "        vertical-align: top;\n",
       "    }\n",
       "\n",
       "    .dataframe thead th {\n",
       "        text-align: right;\n",
       "    }\n",
       "</style>\n",
       "<table border=\"1\" class=\"dataframe\">\n",
       "  <thead>\n",
       "    <tr style=\"text-align: right;\">\n",
       "      <th></th>\n",
       "      <th>index</th>\n",
       "      <th>报道时间</th>\n",
       "      <th>报道人</th>\n",
       "      <th>报道形式（文字／图片／专访等）</th>\n",
       "      <th>报道标题</th>\n",
       "      <th>链接</th>\n",
       "    </tr>\n",
       "  </thead>\n",
       "  <tbody>\n",
       "    <tr>\n",
       "      <th>0</th>\n",
       "      <td>0</td>\n",
       "      <td>2020--04--23 18:00:00</td>\n",
       "      <td>Jessica Chen Weiss</td>\n",
       "      <td>文字</td>\n",
       "      <td>冠状病毒如何改变中美两国的政治前景。</td>\n",
       "      <td>https://www.washingtonpost.com/politics/2020/0...</td>\n",
       "    </tr>\n",
       "    <tr>\n",
       "      <th>1</th>\n",
       "      <td>1</td>\n",
       "      <td>2020--03--20 04:17:45</td>\n",
       "      <td>Eugene Scott</td>\n",
       "      <td>文字</td>\n",
       "      <td>白宫官方辩护称其为“中国”冠状病毒</td>\n",
       "      <td>https://www.washingtonpost.com/politics/2020/0...</td>\n",
       "    </tr>\n",
       "    <tr>\n",
       "      <th>2</th>\n",
       "      <td>2</td>\n",
       "      <td>2020--04--28 04:15:34</td>\n",
       "      <td>Vanessa Molter, Renee DiResta and Alex Stamos</td>\n",
       "      <td>文字</td>\n",
       "      <td>随着中国对covid-19的宣传越来越多，美国社交媒体必须采取行动</td>\n",
       "      <td>https://www.washingtonpost.com/opinions/2020/0...</td>\n",
       "    </tr>\n",
       "    <tr>\n",
       "      <th>3</th>\n",
       "      <td>3</td>\n",
       "      <td>2020--03--20 19:22:14</td>\n",
       "      <td>Allyson Chiu</td>\n",
       "      <td>文字</td>\n",
       "      <td>特朗普毫不犹豫地称冠状病毒为“中国病毒”。专家说，这是一种危险的态度。</td>\n",
       "      <td>https://www.washingtonpost.com/nation/2020/03/...</td>\n",
       "    </tr>\n",
       "    <tr>\n",
       "      <th>4</th>\n",
       "      <td>4</td>\n",
       "      <td>2020--03--19 09:58:07</td>\n",
       "      <td>Des Bieler</td>\n",
       "      <td>文字</td>\n",
       "      <td>林书豪以“中国病毒”的言论抨击特朗普“赋予”种族主义权力</td>\n",
       "      <td>https://www.washingtonpost.com/sports/2020/03/...</td>\n",
       "    </tr>\n",
       "  </tbody>\n",
       "</table>\n",
       "</div>"
      ],
      "text/plain": [
       "   index                   报道时间  \\\n",
       "0      0  2020--04--23 18:00:00   \n",
       "1      1  2020--03--20 04:17:45   \n",
       "2      2  2020--04--28 04:15:34   \n",
       "3      3  2020--03--20 19:22:14   \n",
       "4      4  2020--03--19 09:58:07   \n",
       "\n",
       "                                             报道人 报道形式（文字／图片／专访等）  \\\n",
       "0                             Jessica Chen Weiss              文字   \n",
       "1                                   Eugene Scott              文字   \n",
       "2  Vanessa Molter, Renee DiResta and Alex Stamos              文字   \n",
       "3                                   Allyson Chiu              文字   \n",
       "4                                     Des Bieler              文字   \n",
       "\n",
       "                                  报道标题  \\\n",
       "0                   冠状病毒如何改变中美两国的政治前景。   \n",
       "1                    白宫官方辩护称其为“中国”冠状病毒   \n",
       "2    随着中国对covid-19的宣传越来越多，美国社交媒体必须采取行动   \n",
       "3  特朗普毫不犹豫地称冠状病毒为“中国病毒”。专家说，这是一种危险的态度。   \n",
       "4         林书豪以“中国病毒”的言论抨击特朗普“赋予”种族主义权力   \n",
       "\n",
       "                                                  链接  \n",
       "0  https://www.washingtonpost.com/politics/2020/0...  \n",
       "1  https://www.washingtonpost.com/politics/2020/0...  \n",
       "2  https://www.washingtonpost.com/opinions/2020/0...  \n",
       "3  https://www.washingtonpost.com/nation/2020/03/...  \n",
       "4  https://www.washingtonpost.com/sports/2020/03/...  "
      ]
     },
     "execution_count": 6,
     "metadata": {},
     "output_type": "execute_result"
    }
   ],
   "source": [
    "data.head()"
   ]
  },
  {
   "cell_type": "code",
   "execution_count": 7,
   "metadata": {},
   "outputs": [],
   "source": [
    "list_index=data['index'].tolist()"
   ]
  },
  {
   "cell_type": "code",
   "execution_count": 8,
   "metadata": {},
   "outputs": [
    {
     "name": "stdout",
     "output_type": "stream",
     "text": [
      "[0, 1, 2, 3]\n"
     ]
    }
   ],
   "source": [
    "print(list_index[:4])"
   ]
  },
  {
   "cell_type": "code",
   "execution_count": 9,
   "metadata": {},
   "outputs": [],
   "source": [
    "import os\n",
    "import shutil\n",
    "from tqdm import tqdm \n"
   ]
  },
  {
   "cell_type": "code",
   "execution_count": 12,
   "metadata": {},
   "outputs": [
    {
     "name": "stderr",
     "output_type": "stream",
     "text": [
      "100%|██████████| 1095/1095 [00:03<00:00, 326.50it/s]\n"
     ]
    }
   ],
   "source": [
    "for i in tqdm(range(len(list_index))):\n",
    "    source=os.path.join('../archive/screen_washington_post',str(list_index[i])+'.png')\n",
    "    destination=os.path.join('../archive/screen_washington_post_v1',str(i)+'.png')\n",
    "    shutil.copy(source, destination)"
   ]
  },
  {
   "cell_type": "code",
   "execution_count": 13,
   "metadata": {},
   "outputs": [],
   "source": [
    "basestation_end='The_Washington_Post_v1.xls'\n",
    "data.to_excel(basestation_end,columns=['报道时间','报道人','报道形式（文字／图片／专访等）','报道标题','链接'])"
   ]
  },
  {
   "cell_type": "code",
   "execution_count": null,
   "metadata": {},
   "outputs": [],
   "source": []
  }
 ],
 "metadata": {
  "kernelspec": {
   "display_name": "Python 3",
   "language": "python",
   "name": "python3"
  },
  "language_info": {
   "codemirror_mode": {
    "name": "ipython",
    "version": 3
   },
   "file_extension": ".py",
   "mimetype": "text/x-python",
   "name": "python",
   "nbconvert_exporter": "python",
   "pygments_lexer": "ipython3",
   "version": "3.7.3"
  }
 },
 "nbformat": 4,
 "nbformat_minor": 2
}
